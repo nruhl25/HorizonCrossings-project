{
 "cells": [
  {
   "cell_type": "markdown",
   "metadata": {},
   "source": [
    "### Author: Nathaniel Ruhl\n",
    "### This notebook considers the correlation between the tangent altitude of the 50% transmission point (depends on energy band and certain atmospheric parameters. It demonstrates some of the methods to use when creating an \"atmospheric dynamics model\" that describes h_50"
   ]
  },
  {
   "cell_type": "code",
   "execution_count": 1,
   "metadata": {},
   "outputs": [],
   "source": [
    "import sys\n",
    "sys.path.append(\"../\")  # HCNM2 directory\n",
    "import matplotlib.pyplot as plt\n",
    "plt.style.use(\"ggplot\")\n",
    "%matplotlib inline\n",
    "import numpy as np\n",
    "import pandas as pd\n",
    "import seaborn as sns\n",
    "from scipy.stats import skew\n",
    "import astropy as ap\n",
    "from astropy.time import Time\n",
    "\n",
    "# Libraries used for the navigational problem\n",
    "from Modules.LocateR0hcNav import LocateR0hcNav\n",
    "from Modules.FitAtmosphere import FitAtmosphere\n",
    "\n",
    "# Aditional function to read and do some preliminary processing on RXTE data\n",
    "from Modules.read_rxte_data import read_rxte_data\n",
    "from Modules import constants\n",
    "from Modules.tools import celestial_to_geocentric\n",
    "\n",
    "from ObservationDictionaries.RXTE.all_dicts import all_dicts"
   ]
  },
  {
   "cell_type": "markdown",
   "metadata": {},
   "source": [
    "### Calculate h50 and other parameters that may affect atmospheric variation. Note that these key-value pairs are added to the obs_dicts at runtime."
   ]
  },
  {
   "cell_type": "code",
   "execution_count": 2,
   "metadata": {},
   "outputs": [],
   "source": [
    "# This function fits and returns the h50 point and latitude of graze point\n",
    "def RXTE_fit_h50(obs_dict, e_band_ch, h0_ref, orbit_model=\"rossi\"):\n",
    "    r0_obj = LocateR0hcNav(obs_dict, orbit_model, h0_ref)\n",
    "    # Identify latitude of graze point\n",
    "    g = r0_obj.graze_point/np.linalg.norm(r0_obj.graze_point)\n",
    "    lat = (np.pi/2) - np.arccos(g[2])\n",
    "\n",
    "    #2) Read in RXTE data for the specified energy band\n",
    "    rate_data, time_data, normalized_amplitudes, bin_centers_kev, unattenuated_rate, e_band_kev = read_rxte_data(obs_dict, e_band_ch)\n",
    "\n",
    "    #3) Fit count rate vs h (geocentric tangent altitudes above y0_ref)\n",
    "    fit_obj = FitAtmosphere(obs_dict, orbit_model, r0_obj,\n",
    "                rate_data, time_data, unattenuated_rate)\n",
    "\n",
    "    return fit_obj.c_fit, lat\n",
    "\n",
    "# This function calculates the acute angle between the source position and the Sun in ECI cooridnates\n",
    "# This angle represents Time of Day in our model\n",
    "def calcTOD(obs_dict):\n",
    "    r_sun_obj = ap.coordinates.get_sun(Time(obs_dict[\"t_mid_datetime\"]))\n",
    "    ra = np.deg2rad(r_sun_obj.ra).radian\n",
    "    dec = np.deg2rad(r_sun_obj.dec).radian\n",
    "    r_sun = celestial_to_geocentric(ra, dec)\n",
    "    r_source = obs_dict[\"starECI\"]\n",
    "    tod_angle = np.arccos(np.dot(r_sun, r_source))\n",
    "    return tod_angle\n",
    "\n",
    "# This function calculates the acute angle between the Earth and the Sun in the SSB frame\n",
    "def calcTOY(obs_dict):\n",
    "    r_sun_obj = ap.coordinates.get_body_barycentric(\"sun\", Time(obs_dict[\"t_mid_datetime\"]))\n",
    "    r_sun = np.array((r_sun_obj/r_sun_obj.norm()).xyz)\n",
    "    r_earth_obj = ap.coordinates.get_body_barycentric(\"earth\", Time(obs_dict[\"t_mid_datetime\"]))\n",
    "    r_earth = np.array((r_earth_obj/r_earth_obj.norm()).xyz)\n",
    "    toy_angle = np.arccos(np.dot(r_sun, r_earth))\n",
    "    return toy_angle\n",
    "\n",
    "h0_ref = 40\n",
    "R_b = constants.R_EARTH + h0_ref  # radius of the reference \"body\"\n",
    "e_band_ch = [7-1, 9]\n",
    "\n",
    "for obs_dict in all_dicts:\n",
    "    h50, LAT = RXTE_fit_h50(obs_dict, e_band_ch, h0_ref)\n",
    "    obs_dict['y50'] = R_b + h50   # km\n",
    "    obs_dict['TOD'] = calcTOD(obs_dict)\n",
    "    obs_dict['TOY'] = calcTOY(obs_dict)\n",
    "    obs_dict['LAT'] = abs(LAT)\n",
    "\n",
    "# Analysis should also be done on choice of h0_ref... it does change the measured y50 slightly.\n",
    "# Results for y50 seem to converge when using h0_ref = 40 - 60 km (above 6371 km)"
   ]
  },
  {
   "cell_type": "code",
   "execution_count": 3,
   "metadata": {},
   "outputs": [
    {
     "data": {
      "text/html": [
       "<div>\n",
       "<style scoped>\n",
       "    .dataframe tbody tr th:only-of-type {\n",
       "        vertical-align: middle;\n",
       "    }\n",
       "\n",
       "    .dataframe tbody tr th {\n",
       "        vertical-align: top;\n",
       "    }\n",
       "\n",
       "    .dataframe thead th {\n",
       "        text-align: right;\n",
       "    }\n",
       "</style>\n",
       "<table border=\"1\" class=\"dataframe\">\n",
       "  <thead>\n",
       "    <tr style=\"text-align: right;\">\n",
       "      <th></th>\n",
       "      <th>y50</th>\n",
       "      <th>SN</th>\n",
       "      <th>TOD</th>\n",
       "    </tr>\n",
       "  </thead>\n",
       "  <tbody>\n",
       "    <tr>\n",
       "      <th>0</th>\n",
       "      <td>6482.572694</td>\n",
       "      <td>18.0</td>\n",
       "      <td>2.412085</td>\n",
       "    </tr>\n",
       "    <tr>\n",
       "      <th>1</th>\n",
       "      <td>6488.536624</td>\n",
       "      <td>160.0</td>\n",
       "      <td>1.336315</td>\n",
       "    </tr>\n",
       "    <tr>\n",
       "      <th>2</th>\n",
       "      <td>6488.576285</td>\n",
       "      <td>62.0</td>\n",
       "      <td>1.409454</td>\n",
       "    </tr>\n",
       "    <tr>\n",
       "      <th>3</th>\n",
       "      <td>6491.479021</td>\n",
       "      <td>322.0</td>\n",
       "      <td>0.535804</td>\n",
       "    </tr>\n",
       "  </tbody>\n",
       "</table>\n",
       "</div>"
      ],
      "text/plain": [
       "           y50     SN       TOD\n",
       "0  6482.572694   18.0  2.412085\n",
       "1  6488.536624  160.0  1.336315\n",
       "2  6488.576285   62.0  1.409454\n",
       "3  6491.479021  322.0  0.535804"
      ]
     },
     "execution_count": 3,
     "metadata": {},
     "output_type": "execute_result"
    }
   ],
   "source": [
    "# Construct data matrix\n",
    "params = ['y50', 'SN', 'TOD'] # 'Ap', 'TOY', 'LAT'   # must already be defined as keys in obs_dict\n",
    "data = np.zeros((len(all_dicts), len(params)))   # for 3 independent variables\n",
    "# i'th observation, j'th parameter\n",
    "for i, obs_dict in enumerate(all_dicts):\n",
    "    for j in range(len(params)):\n",
    "        data[i,j] = obs_dict[params[j]]\n",
    "\n",
    "# save as a pandas data frame\n",
    "df = pd.DataFrame(data, columns=params)\n",
    "df"
   ]
  },
  {
   "cell_type": "code",
   "execution_count": 4,
   "metadata": {
    "scrolled": true
   },
   "outputs": [
    {
     "data": {
      "text/plain": [
       "<seaborn.axisgrid.PairGrid at 0x11f892340>"
      ]
     },
     "execution_count": 4,
     "metadata": {},
     "output_type": "execute_result"
    },
    {
     "data": {
      "image/png": "[encoded data removed]",
      "text/plain": [
       "<Figure size 432x432 with 2 Axes>"
      ]
     },
     "metadata": {
      "needs_background": "light"
     },
     "output_type": "display_data"
    }
   ],
   "source": [
    "sns.pairplot(df, x_vars=params[1:], y_vars=params[0], height=6, aspect=0.5)"
   ]
  },
  {
   "cell_type": "markdown",
   "metadata": {},
   "source": [
    "Both of these correlations make sense... \"TOD\" represents the acute angle between the star (telescope pointing vector) and the sun position as measured in ECI coordinates. SN and f107 are highly correlated and both seem to indicate the inflation/deflation of the atmosphere. Ap and LAT are also highly correlated, but the linear relationship doesn't appear in 4 data points. TOY doesn't seem to be a strong indicator, but we'll have to see with more data points."
   ]
  },
  {
   "cell_type": "code",
   "execution_count": 5,
   "metadata": {},
   "outputs": [
    {
     "data": {
      "text/plain": [
       "<AxesSubplot:>"
      ]
     },
     "execution_count": 5,
     "metadata": {},
     "output_type": "execute_result"
    },
    {
     "data": {
      "image/png": "[encoded data removed]",
      "text/plain": [
       "<Figure size 432x288 with 2 Axes>"
      ]
     },
     "metadata": {
      "needs_background": "light"
     },
     "output_type": "display_data"
    }
   ],
   "source": [
    "sns.heatmap(df.corr(), annot=True)"
   ]
  },
  {
   "cell_type": "markdown",
   "metadata": {},
   "source": [
    "## Perform linear regression"
   ]
  },
  {
   "cell_type": "code",
   "execution_count": 6,
   "metadata": {},
   "outputs": [
    {
     "name": "stdout",
     "output_type": "stream",
     "text": [
      "y0 intercept = 6498.368874188102 km\n",
      "[('SN', -0.010195249864226978), ('TOD', -6.424893023608161)]\n"
     ]
    }
   ],
   "source": [
    "from sklearn.linear_model import LinearRegression\n",
    "\n",
    "x = df[params[1:]]\n",
    "y50 = df[params[0]]\n",
    "\n",
    "linModel = LinearRegression()\n",
    "linModel.fit(x,y50)\n",
    "print(f\"y0 intercept = {linModel.intercept_} km\")\n",
    "print(list(zip(params[1:], linModel.coef_)))"
   ]
  },
  {
   "cell_type": "markdown",
   "metadata": {},
   "source": [
    "## Evaluate model accuracy"
   ]
  },
  {
   "cell_type": "code",
   "execution_count": 7,
   "metadata": {},
   "outputs": [
    {
     "name": "stdout",
     "output_type": "stream",
     "text": [
      "RMSE = 0.22322762245982836\n",
      "R^2 = 0.9952547777403773\n"
     ]
    }
   ],
   "source": [
    "from sklearn.metrics import r2_score\n",
    "from sklearn.metrics import mean_squared_error\n",
    "\n",
    "linModel_pred = linModel.predict(x[params[1:]])\n",
    "print(f\"RMSE = {np.sqrt(mean_squared_error(y50,linModel_pred))}\")\n",
    "print(f\"R^2 = {r2_score(y50, linModel_pred)}\")"
   ]
  },
  {
   "cell_type": "code",
   "execution_count": null,
   "metadata": {},
   "outputs": [],
   "source": []
  }
 ],
 "metadata": {
  "kernelspec": {
   "display_name": "Python 3",
   "language": "python",
   "name": "python3"
  },
  "language_info": {
   "codemirror_mode": {
    "name": "ipython",
    "version": 3
   },
   "file_extension": ".py",
   "mimetype": "text/x-python",
   "name": "python",
   "nbconvert_exporter": "python",
   "pygments_lexer": "ipython3",
   "version": "3.8.5"
  }
 },
 "nbformat": 4,
 "nbformat_minor": 4
}

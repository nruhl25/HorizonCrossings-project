{
 "cells": [
  {
   "cell_type": "markdown",
   "metadata": {},
   "source": [
    "I wanted to share a couple things that are still up in the air and that I wan't able to finish this summer. As you'll see, some of these are very important for updating our our next paper. I shared it with you all on Overleaf, so you should have the invitation too.\n",
    "\n",
    "\n",
    "- For whoever takes over the creation of the ADM, you'll notice that I only did the first energy channel band for RXTE. You will need to create this relationship for every energy band.\n",
    "\n",
    "- I don't know if you see this on your end when running the code, but there seems to be a problem with pymap3d/astropy when I use the pymap3d library to calculate longitude. It's annoying, but I haven't found another library with this conversion, and the other way to do it would require coding in the Earth's rotation. I don't know if there is a solution for this, but it doesn't seem like we'll need to define the latitude of the grazing point with this new 'fitting the atmosphere' and ADM method.\n",
    "\n",
    "Seamus:\n",
    "- After I changed the method from predicting the transmittance curve to fitting the curve with tanh(), I had to re-implement the curve slide algorithm in FitAtmosphere.py in a slightly different style. For the upper energy bands/low count rates in the V4641 data, the chi-squared curves (that you fit with gaussians) can have sharp edges in them and mess stuff up. I think this has something to do with \"comp_range\", as it seems like the sharp edges happen when comp_range changes. If you remember, we needed comp_range to eliminate the points where the model went negative. It might be worth it to do a pre-emptive loop to check \"comp_range\" and see if it ever changes, and in that case, pick the smaller range and always use that range as a constant in the curve slide. If you have the time to update this code with your gaussian fits, you will probably need to make sure that these edges don't happen. If you have questions about this, I think I have an idea about how to do it.\n",
    "\n",
    "- The $\\chi^2+1$ seem to be slightly larger (more-so with low count rates) in the $y_{50}$ slide vs the model slide when we predicted the model in the past. You can run \"Analysis/tanh_fit_error_analysis.ipynb\" to see this. I may have done the curve slide incorrectly, but I'm not sure. We need to somehow slide the curve in the time domain, while the hyperbolic tangent fit is made in the tangent altitude domain. I feel like this is actually more simple than it seems, but I think you should look over my code there.\n",
    "\n",
    "Jacob:\n",
    "\n",
    "- It still seems to me like there might be an error in labelling the upper energy channels in the RXTE data. I say this because in the results of \"RXTE_Driver/RXTE_MSIS_Driver.py\", the lowest energy band is accurate and all the other ones seems to be incorrect.\n",
    "\n",
    "- In \"AtmosphericDynamicsModel/atmospheric_dynamics_model.ipynb\", you will see the code to add certain fields (TOD, TOY, etc) to the obs_dict. Can you put this code in your pre-processing when you write the obs_dict?\n",
    "\n",
    "- In the histogram plots that I made with the HEAO-1 catalog (\"HEAO1/HC-Sources.ipynb\"), I did not convert the star position from B1950 to J2000 ra/dec. We should probably re-make these plots with this conversion. ROSAT will probably already have star positions in J2000. Can you please try to re-make these plots with ROSAT or do the coordinate conversions for the HEAO-1 plots? This is an important section in the Breckenridge 2023 paper.\n",
    "\n",
    "- Are you able to find RXTE effective area as a function of energy for each energy band? It would be really helpful if you could re-make the plot 'HCNM2/uncertainty-vs-countRate.png' and made the x-axis source flux in units of counts/cm^2/sec.\n",
    "\n",
    "\n",
    "\n",
    "Thanks! Please reach out if you have any questions. I want to stay involved! 302-332-5176 or nruhl@seas.upenn.edu"
   ]
  },
  {
   "cell_type": "code",
   "execution_count": null,
   "metadata": {},
   "outputs": [],
   "source": []
  }
 ],
 "metadata": {
  "kernelspec": {
   "display_name": "Python 3",
   "language": "python",
   "name": "python3"
  },
  "language_info": {
   "codemirror_mode": {
    "name": "ipython",
    "version": 3
   },
   "file_extension": ".py",
   "mimetype": "text/x-python",
   "name": "python",
   "nbconvert_exporter": "python",
   "pygments_lexer": "ipython3",
   "version": "3.8.5"
  }
 },
 "nbformat": 4,
 "nbformat_minor": 4
}
